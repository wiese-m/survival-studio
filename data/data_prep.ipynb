{
 "cells": [
  {
   "cell_type": "code",
   "execution_count": 1,
   "id": "657a4cbe-33ed-47fa-97cf-0fb113e8b823",
   "metadata": {},
   "outputs": [],
   "source": [
    "import os, sys, warnings\n",
    "\n",
    "current_path = os.path.abspath('.')\n",
    "parent_path = os.path.dirname(current_path)\n",
    "\n",
    "sys.path.append(parent_path)\n",
    "os.environ.setdefault('DJANGO_SETTINGS_MODULE', 'child.settings')\n",
    "\n",
    "from pandas.core.common import SettingWithCopyWarning\n",
    "warnings.filterwarnings(\"ignore\", category=FutureWarning)\n",
    "warnings.filterwarnings(\"ignore\", category=SettingWithCopyWarning)"
   ]
  },
  {
   "cell_type": "code",
   "execution_count": 2,
   "id": "9f1ff871-1a90-41a4-9ded-a07bd327e913",
   "metadata": {},
   "outputs": [],
   "source": [
    "import pandas as pd\n",
    "import numpy as np"
   ]
  },
  {
   "cell_type": "code",
   "execution_count": 3,
   "id": "fc2ac4e5-f155-4124-b913-6622040c70b1",
   "metadata": {},
   "outputs": [],
   "source": [
    "brca_clinical_raw = pd.read_csv('brca_clinical.csv', index_col=0) # need to be downloaded from R script\n",
    "brca_mrna_raw = pd.read_csv('brca_mrna.csv', index_col=0) # need to be downloaded from R script"
   ]
  },
  {
   "cell_type": "code",
   "execution_count": 4,
   "id": "bb6c7ed6-7457-43bf-a662-fd324ab55d68",
   "metadata": {},
   "outputs": [
    {
     "data": {
      "text/plain": [
       "0"
      ]
     },
     "execution_count": 4,
     "metadata": {},
     "output_type": "execute_result"
    }
   ],
   "source": [
    "brca_clinical_raw.bcr_patient_barcode.duplicated().sum() # check for duplicated patient ids"
   ]
  },
  {
   "cell_type": "code",
   "execution_count": 5,
   "id": "72fa352b-0db1-42ae-a9b4-bd53b1d2b77e",
   "metadata": {},
   "outputs": [
    {
     "data": {
      "text/plain": [
       "0"
      ]
     },
     "execution_count": 5,
     "metadata": {},
     "output_type": "execute_result"
    }
   ],
   "source": [
    "brca_mrna_raw.bcr_patient_barcode.duplicated().sum() # check for duplicated patient ids"
   ]
  },
  {
   "cell_type": "code",
   "execution_count": 6,
   "id": "952d9b27-7a8e-472a-bbdd-394c1b9422ed",
   "metadata": {},
   "outputs": [
    {
     "data": {
      "text/plain": [
       "((1098, 17), (379, 17816))"
      ]
     },
     "execution_count": 6,
     "metadata": {},
     "output_type": "execute_result"
    }
   ],
   "source": [
    "brca_clinical_raw.shape, brca_mrna_raw.shape # check shapes"
   ]
  },
  {
   "cell_type": "code",
   "execution_count": 7,
   "id": "9b0e7c25-9e76-45b7-b983-89c8e76b250f",
   "metadata": {},
   "outputs": [],
   "source": [
    "brca_mrna = brca_mrna_raw.copy()\n",
    "brca_mrna['bcr_patient_barcode'] = brca_mrna.bcr_patient_barcode.str[:12] # change patient id to be matching for clinical data"
   ]
  },
  {
   "cell_type": "code",
   "execution_count": 8,
   "id": "b907284c-b464-4799-b092-0bc07283825e",
   "metadata": {},
   "outputs": [],
   "source": [
    "selected_genes = ['MCM6', 'MMP9', 'RAB6B', 'ESM1', 'FLT1', 'BRCA1', 'BRCA2'] # select some genes"
   ]
  },
  {
   "cell_type": "code",
   "execution_count": 9,
   "id": "2c4ed4fe-0f75-4519-b20f-395138043671",
   "metadata": {},
   "outputs": [],
   "source": [
    "brca = brca_clinical_raw.merge(brca_mrna[['bcr_patient_barcode'] + selected_genes], on ='bcr_patient_barcode') # merge clinical and gene data"
   ]
  },
  {
   "cell_type": "code",
   "execution_count": 10,
   "id": "f8a632ca-0ac9-4ab0-97c9-11ece85b4ec2",
   "metadata": {},
   "outputs": [],
   "source": [
    "brca = brca.groupby('bcr_patient_barcode').last() # assure unique patient id"
   ]
  },
  {
   "cell_type": "code",
   "execution_count": 11,
   "id": "d38e8194-c34e-4e4f-b23f-62eb9c59f04d",
   "metadata": {},
   "outputs": [
    {
     "data": {
      "text/plain": [
       "(358, 23)"
      ]
     },
     "execution_count": 11,
     "metadata": {},
     "output_type": "execute_result"
    }
   ],
   "source": [
    "brca.shape # check shape"
   ]
  },
  {
   "cell_type": "code",
   "execution_count": 12,
   "id": "8839cc51-fd0e-4974-b921-0c4dbe677549",
   "metadata": {},
   "outputs": [],
   "source": [
    "na_summary = brca.isna().sum().sort_values(ascending=False) / brca.shape[0]"
   ]
  },
  {
   "cell_type": "code",
   "execution_count": 13,
   "id": "d256eccd-031e-424e-8914-a1050446068d",
   "metadata": {},
   "outputs": [
    {
     "data": {
      "text/plain": [
       "patient.clinical_cqcf.country                                       0.603352\n",
       "patient.drugs.drug.therapy_ongoing                                  0.368715\n",
       "patient.drugs.drug.therapy_types.therapy_type                       0.363128\n",
       "patient.ethnicity                                                   0.310056\n",
       "patient.number_of_lymphnodes_positive_by_he                         0.256983\n",
       "patient.race                                                        0.248603\n",
       "patient.biospecimen_cqcf.tumor_samples.tumor_sample.tumor_weight    0.131285\n",
       "patient.menopause_status                                            0.030726\n",
       "patient.breast_carcinoma_estrogen_receptor_status                   0.008380\n",
       "patient.breast_carcinoma_progesterone_receptor_status               0.008380\n",
       "RAB6B                                                               0.002793\n",
       "MCM6                                                                0.002793\n",
       "BRCA2                                                               0.002793\n",
       "patient.vital_status                                                0.000000\n",
       "patient.stage_event.pathologic_stage                                0.000000\n",
       "patient.clinical_cqcf.histological_type                             0.000000\n",
       "patient.age_at_initial_pathologic_diagnosis                         0.000000\n",
       "MMP9                                                                0.000000\n",
       "patient.gender                                                      0.000000\n",
       "ESM1                                                                0.000000\n",
       "FLT1                                                                0.000000\n",
       "BRCA1                                                               0.000000\n",
       "times                                                               0.000000\n",
       "dtype: float64"
      ]
     },
     "execution_count": 13,
     "metadata": {},
     "output_type": "execute_result"
    }
   ],
   "source": [
    "na_summary # check missing data percentages"
   ]
  },
  {
   "cell_type": "code",
   "execution_count": 14,
   "id": "de3ee841-3be1-4c66-b6ee-36b7571a6aa9",
   "metadata": {},
   "outputs": [],
   "source": [
    "selected_cols = na_summary[na_summary < 0.30].index # select columns with less than 30% missing data"
   ]
  },
  {
   "cell_type": "code",
   "execution_count": 15,
   "id": "b667de47-5fcc-494a-8021-67e50bdbc5ef",
   "metadata": {},
   "outputs": [],
   "source": [
    "brca = brca[selected_cols].dropna()"
   ]
  },
  {
   "cell_type": "code",
   "execution_count": 16,
   "id": "4d75362a-e1fc-428e-912e-9661d4505f73",
   "metadata": {},
   "outputs": [],
   "source": [
    "brca.columns = [c.split('.')[-1] for c in brca.columns] # fix column names"
   ]
  },
  {
   "cell_type": "code",
   "execution_count": 17,
   "id": "ccf8d5ca-acd2-4f69-94c2-313c80bc11d1",
   "metadata": {},
   "outputs": [
    {
     "data": {
      "text/plain": [
       "gender                                             1\n",
       "vital_status                                       2\n",
       "breast_carcinoma_estrogen_receptor_status          2\n",
       "breast_carcinoma_progesterone_receptor_status      3\n",
       "race                                               4\n",
       "menopause_status                                   4\n",
       "histological_type                                  5\n",
       "pathologic_stage                                   9\n",
       "number_of_lymphnodes_positive_by_he               18\n",
       "age_at_initial_pathologic_diagnosis               53\n",
       "tumor_weight                                     117\n",
       "times                                            190\n",
       "MCM6                                             211\n",
       "FLT1                                             213\n",
       "BRCA1                                            214\n",
       "RAB6B                                            214\n",
       "MMP9                                             214\n",
       "ESM1                                             214\n",
       "BRCA2                                            214\n",
       "dtype: int64"
      ]
     },
     "execution_count": 17,
     "metadata": {},
     "output_type": "execute_result"
    }
   ],
   "source": [
    "brca.nunique().sort_values() # check for unique values in columns"
   ]
  },
  {
   "cell_type": "code",
   "execution_count": 18,
   "id": "07a23ced-f8e6-4e27-ac34-981d734f6aec",
   "metadata": {},
   "outputs": [],
   "source": [
    "# remove some columns which do not provide very useful information\n",
    "brca = brca \\\n",
    "    .loc[lambda x: x.breast_carcinoma_progesterone_receptor_status != 'indeterminate'] \\\n",
    "    .drop(columns=['gender', 'race', 'histological_type'])"
   ]
  },
  {
   "cell_type": "code",
   "execution_count": 19,
   "id": "ad15e315-97d3-48a1-90e8-f313c1b1e47c",
   "metadata": {},
   "outputs": [
    {
     "data": {
      "text/plain": [
       "post (prior bilateral ovariectomy or >12 mo since lmp with no prior hysterectomy)               134\n",
       "pre (<6 months since lmp and no prior bilateral ovariectomy and not on estrogen replacement)     67\n",
       "peri (6-12 months since last menstrual period)                                                    9\n",
       "indeterminate (neither pre or postmenopausal)                                                     3\n",
       "Name: menopause_status, dtype: int64"
      ]
     },
     "execution_count": 19,
     "metadata": {},
     "output_type": "execute_result"
    }
   ],
   "source": [
    "brca.menopause_status.value_counts()"
   ]
  },
  {
   "cell_type": "code",
   "execution_count": 20,
   "id": "94609594-fbf3-46fb-beef-37dedb221c44",
   "metadata": {},
   "outputs": [],
   "source": [
    "menopause_mapper = {\n",
    "    'post (prior bilateral ovariectomy or >12 mo since lmp with no prior hysterectomy)': 'post',\n",
    "    'pre (<6 months since lmp and no prior bilateral ovariectomy and not on estrogen replacement)': 'pre/peri',\n",
    "    'peri (6-12 months since last menstrual period)': 'pre/peri'\n",
    "}\n",
    "\n",
    "stage_mapper = {\n",
    "    'stage iia': 'II',\n",
    "    'stage iib': 'II',\n",
    "    'stage iiia': 'III',\n",
    "    'stage i': 'I',\n",
    "    'stage ia': 'I',\n",
    "    'stage iiic': 'III',\n",
    "    'stage iv': 'III',\n",
    "    'stage iiib': 'III',\n",
    "    'stage ib': 'I'\n",
    "}"
   ]
  },
  {
   "cell_type": "code",
   "execution_count": 21,
   "id": "c9ce9b11-9007-4a2f-9410-337ffb499640",
   "metadata": {},
   "outputs": [],
   "source": [
    "# make shorter names\n",
    "brca['pathologic_stage'] = brca.pathologic_stage.apply(lambda x: stage_mapper.get(x))\n",
    "brca['menopause_status'] = brca.menopause_status.apply(lambda x: menopause_mapper.get(x))"
   ]
  },
  {
   "cell_type": "code",
   "execution_count": 22,
   "id": "4d9985ab-98fa-428f-ad2f-905bd1e4ce4a",
   "metadata": {},
   "outputs": [],
   "source": [
    "brca = brca.dropna(subset=['menopause_status'])"
   ]
  },
  {
   "cell_type": "code",
   "execution_count": 23,
   "id": "822c7385-e017-4b55-b8de-448dbdb62cb8",
   "metadata": {},
   "outputs": [],
   "source": [
    "# rename columns\n",
    "brca.rename(columns={\n",
    "    'number_of_lymphnodes_positive_by_he': 'pos_lymphnodes',\n",
    "    'breast_carcinoma_estrogen_receptor_status': 'estr_rec',\n",
    "    'breast_carcinoma_progesterone_receptor_status': 'prog_rec',\n",
    "    'age_at_initial_pathologic_diagnosis': 'age',\n",
    "    'vital_status': 'status',\n",
    "    'times': 'time',\n",
    "    'menopause_status': 'menopause',\n",
    "    'pathologic_stage': 'stage'\n",
    "}, inplace=True)"
   ]
  },
  {
   "cell_type": "code",
   "execution_count": 24,
   "id": "22403e3c-a486-4138-a485-cfae52831448",
   "metadata": {},
   "outputs": [],
   "source": [
    "brca = brca[['time', 'status', 'age', 'pos_lymphnodes', 'tumor_weight', 'stage', 'menopause', 'estr_rec', 'prog_rec'] + selected_genes] # rearrange columns"
   ]
  },
  {
   "cell_type": "code",
   "execution_count": 25,
   "id": "3bbf88b1-a5d7-4457-ae4c-d3b45956aedf",
   "metadata": {},
   "outputs": [
    {
     "data": {
      "text/html": [
       "<div>\n",
       "<style scoped>\n",
       "    .dataframe tbody tr th:only-of-type {\n",
       "        vertical-align: middle;\n",
       "    }\n",
       "\n",
       "    .dataframe tbody tr th {\n",
       "        vertical-align: top;\n",
       "    }\n",
       "\n",
       "    .dataframe thead th {\n",
       "        text-align: right;\n",
       "    }\n",
       "</style>\n",
       "<table border=\"1\" class=\"dataframe\">\n",
       "  <thead>\n",
       "    <tr style=\"text-align: right;\">\n",
       "      <th></th>\n",
       "      <th>time</th>\n",
       "      <th>status</th>\n",
       "      <th>age</th>\n",
       "      <th>pos_lymphnodes</th>\n",
       "      <th>tumor_weight</th>\n",
       "      <th>stage</th>\n",
       "      <th>menopause</th>\n",
       "      <th>estr_rec</th>\n",
       "      <th>prog_rec</th>\n",
       "      <th>MCM6</th>\n",
       "      <th>MMP9</th>\n",
       "      <th>RAB6B</th>\n",
       "      <th>ESM1</th>\n",
       "      <th>FLT1</th>\n",
       "      <th>BRCA1</th>\n",
       "      <th>BRCA2</th>\n",
       "    </tr>\n",
       "    <tr>\n",
       "      <th>bcr_patient_barcode</th>\n",
       "      <th></th>\n",
       "      <th></th>\n",
       "      <th></th>\n",
       "      <th></th>\n",
       "      <th></th>\n",
       "      <th></th>\n",
       "      <th></th>\n",
       "      <th></th>\n",
       "      <th></th>\n",
       "      <th></th>\n",
       "      <th></th>\n",
       "      <th></th>\n",
       "      <th></th>\n",
       "      <th></th>\n",
       "      <th></th>\n",
       "      <th></th>\n",
       "    </tr>\n",
       "  </thead>\n",
       "  <tbody>\n",
       "    <tr>\n",
       "      <th>TCGA-A1-A0SE</th>\n",
       "      <td>1321</td>\n",
       "      <td>0</td>\n",
       "      <td>56</td>\n",
       "      <td>0.0</td>\n",
       "      <td>500.0</td>\n",
       "      <td>I</td>\n",
       "      <td>pre/peri</td>\n",
       "      <td>positive</td>\n",
       "      <td>positive</td>\n",
       "      <td>-0.975556</td>\n",
       "      <td>1.557818</td>\n",
       "      <td>-1.289684</td>\n",
       "      <td>-0.844625</td>\n",
       "      <td>0.83825</td>\n",
       "      <td>-1.387917</td>\n",
       "      <td>-1.34050</td>\n",
       "    </tr>\n",
       "    <tr>\n",
       "      <th>TCGA-A1-A0SH</th>\n",
       "      <td>1437</td>\n",
       "      <td>0</td>\n",
       "      <td>39</td>\n",
       "      <td>0.0</td>\n",
       "      <td>500.0</td>\n",
       "      <td>II</td>\n",
       "      <td>pre/peri</td>\n",
       "      <td>negative</td>\n",
       "      <td>positive</td>\n",
       "      <td>-1.463444</td>\n",
       "      <td>3.456000</td>\n",
       "      <td>-0.114474</td>\n",
       "      <td>-0.030750</td>\n",
       "      <td>0.18000</td>\n",
       "      <td>-1.924833</td>\n",
       "      <td>-1.54100</td>\n",
       "    </tr>\n",
       "    <tr>\n",
       "      <th>TCGA-A1-A0SO</th>\n",
       "      <td>852</td>\n",
       "      <td>0</td>\n",
       "      <td>67</td>\n",
       "      <td>1.0</td>\n",
       "      <td>500.0</td>\n",
       "      <td>II</td>\n",
       "      <td>post</td>\n",
       "      <td>negative</td>\n",
       "      <td>negative</td>\n",
       "      <td>0.846333</td>\n",
       "      <td>3.286000</td>\n",
       "      <td>0.052684</td>\n",
       "      <td>-2.638750</td>\n",
       "      <td>-0.32875</td>\n",
       "      <td>-0.136417</td>\n",
       "      <td>0.76800</td>\n",
       "    </tr>\n",
       "    <tr>\n",
       "      <th>TCGA-A2-A04N</th>\n",
       "      <td>3153</td>\n",
       "      <td>0</td>\n",
       "      <td>66</td>\n",
       "      <td>0.0</td>\n",
       "      <td>153.0</td>\n",
       "      <td>I</td>\n",
       "      <td>post</td>\n",
       "      <td>positive</td>\n",
       "      <td>positive</td>\n",
       "      <td>-1.699778</td>\n",
       "      <td>2.802545</td>\n",
       "      <td>-1.264211</td>\n",
       "      <td>0.503750</td>\n",
       "      <td>0.62900</td>\n",
       "      <td>-1.396583</td>\n",
       "      <td>-1.05250</td>\n",
       "    </tr>\n",
       "    <tr>\n",
       "      <th>TCGA-A2-A04P</th>\n",
       "      <td>548</td>\n",
       "      <td>1</td>\n",
       "      <td>36</td>\n",
       "      <td>18.0</td>\n",
       "      <td>276.0</td>\n",
       "      <td>III</td>\n",
       "      <td>pre/peri</td>\n",
       "      <td>negative</td>\n",
       "      <td>negative</td>\n",
       "      <td>-0.258222</td>\n",
       "      <td>3.512545</td>\n",
       "      <td>-0.281105</td>\n",
       "      <td>-0.378125</td>\n",
       "      <td>1.77150</td>\n",
       "      <td>-3.127000</td>\n",
       "      <td>1.54975</td>\n",
       "    </tr>\n",
       "    <tr>\n",
       "      <th>...</th>\n",
       "      <td>...</td>\n",
       "      <td>...</td>\n",
       "      <td>...</td>\n",
       "      <td>...</td>\n",
       "      <td>...</td>\n",
       "      <td>...</td>\n",
       "      <td>...</td>\n",
       "      <td>...</td>\n",
       "      <td>...</td>\n",
       "      <td>...</td>\n",
       "      <td>...</td>\n",
       "      <td>...</td>\n",
       "      <td>...</td>\n",
       "      <td>...</td>\n",
       "      <td>...</td>\n",
       "      <td>...</td>\n",
       "    </tr>\n",
       "    <tr>\n",
       "      <th>TCGA-BH-A0BR</th>\n",
       "      <td>1633</td>\n",
       "      <td>0</td>\n",
       "      <td>59</td>\n",
       "      <td>0.0</td>\n",
       "      <td>290.0</td>\n",
       "      <td>I</td>\n",
       "      <td>post</td>\n",
       "      <td>positive</td>\n",
       "      <td>positive</td>\n",
       "      <td>-1.210222</td>\n",
       "      <td>4.281273</td>\n",
       "      <td>-1.193316</td>\n",
       "      <td>0.050500</td>\n",
       "      <td>1.85000</td>\n",
       "      <td>-2.114917</td>\n",
       "      <td>-1.25525</td>\n",
       "    </tr>\n",
       "    <tr>\n",
       "      <th>TCGA-BH-A0BS</th>\n",
       "      <td>1641</td>\n",
       "      <td>0</td>\n",
       "      <td>55</td>\n",
       "      <td>0.0</td>\n",
       "      <td>260.0</td>\n",
       "      <td>III</td>\n",
       "      <td>post</td>\n",
       "      <td>positive</td>\n",
       "      <td>positive</td>\n",
       "      <td>-2.233333</td>\n",
       "      <td>3.336273</td>\n",
       "      <td>-2.137684</td>\n",
       "      <td>-1.362000</td>\n",
       "      <td>0.17000</td>\n",
       "      <td>-1.825833</td>\n",
       "      <td>-0.82350</td>\n",
       "    </tr>\n",
       "    <tr>\n",
       "      <th>TCGA-BH-A0BV</th>\n",
       "      <td>1519</td>\n",
       "      <td>0</td>\n",
       "      <td>78</td>\n",
       "      <td>2.0</td>\n",
       "      <td>470.0</td>\n",
       "      <td>II</td>\n",
       "      <td>post</td>\n",
       "      <td>positive</td>\n",
       "      <td>positive</td>\n",
       "      <td>-1.202000</td>\n",
       "      <td>4.159364</td>\n",
       "      <td>-1.488316</td>\n",
       "      <td>-0.425125</td>\n",
       "      <td>0.54300</td>\n",
       "      <td>-0.924917</td>\n",
       "      <td>-1.37025</td>\n",
       "    </tr>\n",
       "    <tr>\n",
       "      <th>TCGA-BH-A0BW</th>\n",
       "      <td>355</td>\n",
       "      <td>0</td>\n",
       "      <td>71</td>\n",
       "      <td>0.0</td>\n",
       "      <td>180.0</td>\n",
       "      <td>I</td>\n",
       "      <td>post</td>\n",
       "      <td>negative</td>\n",
       "      <td>negative</td>\n",
       "      <td>-0.161111</td>\n",
       "      <td>3.744818</td>\n",
       "      <td>0.629053</td>\n",
       "      <td>-0.840625</td>\n",
       "      <td>0.68575</td>\n",
       "      <td>-1.263083</td>\n",
       "      <td>-0.90925</td>\n",
       "    </tr>\n",
       "    <tr>\n",
       "      <th>TCGA-BH-A0BZ</th>\n",
       "      <td>1492</td>\n",
       "      <td>0</td>\n",
       "      <td>59</td>\n",
       "      <td>1.0</td>\n",
       "      <td>1000.0</td>\n",
       "      <td>III</td>\n",
       "      <td>post</td>\n",
       "      <td>positive</td>\n",
       "      <td>positive</td>\n",
       "      <td>-0.969556</td>\n",
       "      <td>4.072545</td>\n",
       "      <td>-1.715474</td>\n",
       "      <td>-0.203875</td>\n",
       "      <td>1.04475</td>\n",
       "      <td>-1.244917</td>\n",
       "      <td>-2.23625</td>\n",
       "    </tr>\n",
       "  </tbody>\n",
       "</table>\n",
       "<p>210 rows × 16 columns</p>\n",
       "</div>"
      ],
      "text/plain": [
       "                     time  status  age  pos_lymphnodes  tumor_weight stage  \\\n",
       "bcr_patient_barcode                                                          \n",
       "TCGA-A1-A0SE         1321       0   56             0.0         500.0     I   \n",
       "TCGA-A1-A0SH         1437       0   39             0.0         500.0    II   \n",
       "TCGA-A1-A0SO          852       0   67             1.0         500.0    II   \n",
       "TCGA-A2-A04N         3153       0   66             0.0         153.0     I   \n",
       "TCGA-A2-A04P          548       1   36            18.0         276.0   III   \n",
       "...                   ...     ...  ...             ...           ...   ...   \n",
       "TCGA-BH-A0BR         1633       0   59             0.0         290.0     I   \n",
       "TCGA-BH-A0BS         1641       0   55             0.0         260.0   III   \n",
       "TCGA-BH-A0BV         1519       0   78             2.0         470.0    II   \n",
       "TCGA-BH-A0BW          355       0   71             0.0         180.0     I   \n",
       "TCGA-BH-A0BZ         1492       0   59             1.0        1000.0   III   \n",
       "\n",
       "                    menopause  estr_rec  prog_rec      MCM6      MMP9  \\\n",
       "bcr_patient_barcode                                                     \n",
       "TCGA-A1-A0SE         pre/peri  positive  positive -0.975556  1.557818   \n",
       "TCGA-A1-A0SH         pre/peri  negative  positive -1.463444  3.456000   \n",
       "TCGA-A1-A0SO             post  negative  negative  0.846333  3.286000   \n",
       "TCGA-A2-A04N             post  positive  positive -1.699778  2.802545   \n",
       "TCGA-A2-A04P         pre/peri  negative  negative -0.258222  3.512545   \n",
       "...                       ...       ...       ...       ...       ...   \n",
       "TCGA-BH-A0BR             post  positive  positive -1.210222  4.281273   \n",
       "TCGA-BH-A0BS             post  positive  positive -2.233333  3.336273   \n",
       "TCGA-BH-A0BV             post  positive  positive -1.202000  4.159364   \n",
       "TCGA-BH-A0BW             post  negative  negative -0.161111  3.744818   \n",
       "TCGA-BH-A0BZ             post  positive  positive -0.969556  4.072545   \n",
       "\n",
       "                        RAB6B      ESM1     FLT1     BRCA1    BRCA2  \n",
       "bcr_patient_barcode                                                  \n",
       "TCGA-A1-A0SE        -1.289684 -0.844625  0.83825 -1.387917 -1.34050  \n",
       "TCGA-A1-A0SH        -0.114474 -0.030750  0.18000 -1.924833 -1.54100  \n",
       "TCGA-A1-A0SO         0.052684 -2.638750 -0.32875 -0.136417  0.76800  \n",
       "TCGA-A2-A04N        -1.264211  0.503750  0.62900 -1.396583 -1.05250  \n",
       "TCGA-A2-A04P        -0.281105 -0.378125  1.77150 -3.127000  1.54975  \n",
       "...                       ...       ...      ...       ...      ...  \n",
       "TCGA-BH-A0BR        -1.193316  0.050500  1.85000 -2.114917 -1.25525  \n",
       "TCGA-BH-A0BS        -2.137684 -1.362000  0.17000 -1.825833 -0.82350  \n",
       "TCGA-BH-A0BV        -1.488316 -0.425125  0.54300 -0.924917 -1.37025  \n",
       "TCGA-BH-A0BW         0.629053 -0.840625  0.68575 -1.263083 -0.90925  \n",
       "TCGA-BH-A0BZ        -1.715474 -0.203875  1.04475 -1.244917 -2.23625  \n",
       "\n",
       "[210 rows x 16 columns]"
      ]
     },
     "execution_count": 25,
     "metadata": {},
     "output_type": "execute_result"
    }
   ],
   "source": [
    "brca # final BRCA dataset"
   ]
  },
  {
   "cell_type": "code",
   "execution_count": 26,
   "id": "ffb869c5-6ffd-48f9-9092-60fcf866cb32",
   "metadata": {},
   "outputs": [],
   "source": [
    "# brca.to_csv('brca-v2.csv') # write to csv"
   ]
  },
  {
   "cell_type": "code",
   "execution_count": null,
   "id": "4b14493b-c2e3-436a-bbca-538ae3faadde",
   "metadata": {},
   "outputs": [],
   "source": []
  }
 ],
 "metadata": {
  "kernelspec": {
   "display_name": "Python 3 (ipykernel)",
   "language": "python",
   "name": "python3"
  },
  "language_info": {
   "codemirror_mode": {
    "name": "ipython",
    "version": 3
   },
   "file_extension": ".py",
   "mimetype": "text/x-python",
   "name": "python",
   "nbconvert_exporter": "python",
   "pygments_lexer": "ipython3",
   "version": "3.9.7"
  }
 },
 "nbformat": 4,
 "nbformat_minor": 5
}
